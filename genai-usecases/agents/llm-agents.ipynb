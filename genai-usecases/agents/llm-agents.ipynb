{
  "nbformat": 4,
  "nbformat_minor": 0,
  "metadata": {
    "colab": {
      "provenance": []
    },
    "kernelspec": {
      "name": "python3",
      "display_name": "Python 3"
    },
    "language_info": {
      "name": "python"
    }
  },
  "cells": [
    {
      "cell_type": "markdown",
      "source": [
        "<a href=\"https://colab.research.google.com/drive/1yhpXqiF5BGjGwFHVWzzT_wpCGbR3PDZH?usp=sharing\" target=\"_parent\"><img src=\"https://colab.research.google.com/assets/colab-badge.svg\" alt=\"Open In Colab\"></a>"
      ],
      "metadata": {
        "id": "8MahTl_w6H22"
      }
    },
    {
      "cell_type": "markdown",
      "source": [
        "# 🤖 What is LLM Agents ?\n",
        "\n",
        "LLM agents use large language models (LLMs) as their main `brain`. They can understand and respond to complex queries by combining `general knowledge` with `specialized information`, making them valuable tools in various industry use cases.\n",
        "\n",
        "<br>\n",
        "\n",
        "<div align=\"center\">\n",
        "<img width=\"500\" src=\"https://raw.githubusercontent.com/genieincodebottle/generative-ai/main/images/agent_genai_example.png\">\n",
        "\n",
        "Agent based system example using Internet Search & Report Generation Tools\n",
        "</div>\n",
        "\n",
        "<br>\n",
        "\n",
        "### ➡️ Example\n",
        "\n",
        "Imagine a financial services company using an LLM agent called `FinanceGPT` to assist with investment strategy. An analyst asks, \"What's the potential impact of rising interest rates on our tech-heavy portfolio, considering current market trends?\"\n",
        "\n",
        "### ➡️ Here is how `FinanceGPT` might process this query\n",
        "\n",
        "1. It uses its general-purpose LLM to recall basic information about interest rates, tech stocks, and market dynamics.\n",
        "2. Recognizing the need for more specific data, it accesses current market data and economic forecasts using `external tools`.\n",
        "3. FinanceGPT consults a specialized LLM trained in financial analysis for insights on correlations between interest rates and tech stock performance.\n",
        "4. It combines all this information to provide a comprehensive analysis of potential impacts on the portfolio.\n",
        "\n",
        "<br>\n",
        "\n",
        "[LangChain's Agentic Framework](https://langchain-ai.github.io/langgraph/concepts/high_level/)\n",
        "<hr>\n",
        "<br>\n",
        "\n",
        "# 🤔 When we use Agents ?\n",
        "Agent-based GenAI systems like `LLM agents` are particularly useful when tasks require a combination of `broad knowledge` and `specialized expertise`, along with the ability to access and integrate `real-time` or `external data`. They are well-suited for complex queries that demand multi-step reasoning, up-to-date information, and domain-specific insights. These systems excel in scenarios where a single, static model might struggle to provide comprehensive and contextually relevant responses, such as in financial analysis, healthcare diagnostics, or personalized customer support in technical fields etc etc..\n",
        "\n",
        "<hr>\n",
        "<br>\n",
        "\n",
        "# 🧩 Components of LLM Agents\n",
        "\n",
        "<div align=\"center\">\n",
        "<img width=\"600\" src=\"https://raw.githubusercontent.com/genieincodebottle/generative-ai/main/images/agents_detail.png\">\n",
        "</div>\n",
        "<br>\n",
        "\n",
        "## 💠 Agent Core\n",
        "\n",
        "The agent core defines the LLM agent's goals, planning, available tools, memory system, and behaviour, tailored to specific application needs.\n",
        "\n",
        "### ➡️ Purpose\n",
        "* Central decision-making module\n",
        "* Manages agent's logic and behavior\n",
        "\n",
        "### ➡️ Key Components\n",
        "* `Goals`: Define agent's objectives\n",
        "* `Tools`: List of accessible resources\n",
        "* `Planning`: Instructions for using planning modules\n",
        "* `Memory`: Retrieves relevant past interactions\n",
        "* `Persona (optional)`: Shapes agent's character and response style\n",
        "\n",
        "### ➡️ Primary Functions\n",
        "* Coordinates decision-making processes\n",
        "* Manages tool selection and application\n",
        "* Implements appropriate planning strategies\n",
        "* Utilizes relevant memories for context\n",
        "* Maintains consistent agent behavior\n",
        "\n",
        "### ➡️ Example\n",
        "\n",
        "For a healthcare LLM agent called `MediAssist`:\n",
        "- `Goal`: Assist medical professionals in diagnosis and treatment planning\n",
        "- `Tools`: Medical literature database, drug interaction checker, symptom analyzer\n",
        "- `Planning`: Generating a preliminary diagnosis based on input symptoms or Developing a personalized treatment plan with multiple checkpoints for physician review and adjustment.\n",
        "- `Memory`: Patient history, common treatment protocols, recent medical studies\n",
        "- `Persona`: Professional, precise, and up-to-date with latest medical guidelines\n",
        "\n",
        "<hr>\n",
        "<br>\n",
        "\n",
        "## 🛠️ Tools\n",
        "\n",
        "Tools are external resources that help LLM agents perform specific tasks or get extra information, crucial for industry-specific applications.\n",
        "\n",
        "### ➡️ Examples of industry-specific tools\n",
        "\n",
        "- `Real-time stock market data API`: For up-to-the-minute financial information\n",
        "- `Patient records database`: For healthcare applications\n",
        "- `CAD software integration`: For engineering and design tasks\n",
        "- `Regulatory compliance checker`: For legal and financial sectors\n",
        "\n",
        "<hr>\n",
        "<br>\n",
        "\n",
        "## 🗺️ Planning\n",
        "\n",
        "The planning module in an LLM agent helps divide complex tasks into smaller, manageable steps.\n",
        "\n",
        "<br>\n",
        "\n",
        "### ➡️ Role and Importance\n",
        "\n",
        "The planning module is a critical component of an LLM agent, serving as the strategic brain that orchestrates complex problem-solving processes. Its primary functions include:\n",
        "\n",
        "  * `Task Decomposition`: Breaking down complex queries or tasks into manageable subtasks.\n",
        "  * `Strategy Formation`: Developing a structured approach to tackle each subtask efficiently.\n",
        "  * `Resource Allocation`: Determining which tools or knowledge bases are needed for each step.\n",
        "  * `Adaptive Planning`: Adjusting the plan based on intermediate results or user feedback.\n",
        "\n",
        "<br>\n",
        "\n",
        "### ➡️ Task Decomposition Techniques\n",
        "\n",
        "The planning module employs various techniques to break down tasks effectively:\n",
        "\n",
        "  * **Chain of Thought (CoT):**\n",
        "\n",
        "    * `Description`: A linear, step-by-step reasoning approach.\n",
        "    * `Process`: The agent creates a sequence of logical steps, each building upon the previous one.\n",
        "    * `Advantage`: Ideal for problems with a clear, sequential solution path.\n",
        "    * `Example`: Solving a math problem by breaking it into individual operations.\n",
        "\n",
        "  * **Tree of Thoughts (ToT):**\n",
        "\n",
        "    * `Description`: A multi-path reasoning method exploring multiple potential solutions.\n",
        "    * `Process`: The agent generates various solution paths, evaluates them, and selects the most promising one.\n",
        "    * `Advantage`: Suitable for problems with multiple possible approaches or uncertain outcomes.\n",
        "    * `Example`: Strategizing in a chess game by considering various move sequences.\n",
        "\n",
        "<br>\n",
        "\n",
        "### ➡️ Planning Strategies\n",
        "\n",
        "* **Planning with Feedback**\n",
        "\n",
        "  The agent adjusts its approach based on user input, crucial in dynamic industry environments.\n",
        "\n",
        "  **Example**\n",
        "\n",
        "  ```\n",
        "  HR Manager: \"We need to create a training program for new software implementation.\"\n",
        "\n",
        "  HR-AI: \"Based on standard practices, I recommend a 3-day workshop covering basic and advanced features.\"\n",
        "\n",
        "  HR Manager: \"Our team is already familiar with similar software. Can we make it more condensed?\"\n",
        "\n",
        "  HR-AI: (Adjusts plan) \"Understood. Let's create a more advanced, 1-day intensive program focusing on unique features and integration with existing systems. Here's a revised outline...\"\n",
        "  ```\n",
        "* **Planning without Feedback**\n",
        "\n",
        "  The agent plans its entire response based on the initial query, common in automated industry processes.\n",
        "\n",
        "  **Example**\n",
        "\n",
        "  ```\n",
        "  Manufacturing Manager: \"Optimize our production line for the new electric vehicle model.\"\n",
        "\n",
        "  ManufacturingAI: (Plans response without further input)\n",
        "  1. Analyzes current production line setup\n",
        "  2. Compares with best practices for EV manufacturing\n",
        "  3. Identifies bottlenecks and inefficiencies\n",
        "  4. Suggests equipment upgrades and layout changes\n",
        "  5. Provides a detailed implementation plan with cost-benefit analysis\n",
        "  ```\n",
        "\n",
        "<hr>\n",
        "\n",
        "<br>\n",
        "\n",
        "## 🧠 Memory\n",
        "\n",
        "Memory allows the LLM agent to retain and utilize information, crucial for maintaining context in agentic based GenAI applications.\n",
        "\n",
        "<br>\n",
        "\n",
        "### ➡️ Short Term Memory\n",
        "\n",
        "  Helps the agent maintain context within a single interaction or task.\n",
        "\n",
        "  **Example**\n",
        "\n",
        "  ```\n",
        "  Data Analyst: \"We're analyzing last quarter's sales data.\"\n",
        "\n",
        "  AnalyticsAI: (Stores in short-term memory: last quarter, sales data)\n",
        "\n",
        "  Data Analyst: \"What were the top-performing product categories?\"\n",
        "\n",
        "  AnalyticsAI: (Recalls from short-term memory) \"Based on last quarter's sales data, the top-performing product categories were...\"\n",
        "  ```\n",
        "<br>\n",
        "\n",
        "### ➡️ Long Term Memory\n",
        "\n",
        "  Stores information from past interactions for future use, valuable for long-term industry trends and recurring issues.\n",
        "\n",
        "  **Example**\n",
        "  ```\n",
        "  Engineer in January: \"We're having issues with overheating in the new processor design.\"\n",
        "\n",
        "  EngineeringAI: (Stores in long-term memory: overheating issues, processor design)\n",
        "\n",
        "  Engineer in June: \"We're starting the next-gen processor project.\"\n",
        "\n",
        "  EngineeringAI: (Recalls from long-term memory) \"Given the overheating issues we encountered in the previous design, I recommend prioritizing thermal management in this new project. Here are some strategies we can implement...\"\n",
        "  ```\n",
        "<br>\n",
        "\n",
        "## ➡️ Hybrid Memory\n",
        "\n",
        "  Combines short-term and long-term memory for more intelligent and context-aware responses in complex industry scenarios.\n",
        "\n",
        "  **Example**\n",
        "\n",
        "  ```\n",
        "  Project Manager: \"Remember the supply chain disruption we faced last year? We need to update our risk management strategy for the upcoming product launch.\"\n",
        "\n",
        "  SupplyChainAI: (Combines long-term memory of past disruptions with short-term context of upcoming launch)\n",
        "\n",
        "  \"Certainly. Based on the supply chain disruptions we experienced last year, particularly in semiconductor sourcing, let's revise our risk management\n",
        "  strategy for the upcoming product launch. I suggest the following updates:\n",
        "  1. Diversify our supplier base for critical components\n",
        "  2. Implement a real-time inventory tracking system\n",
        "  3. Develop contingency plans for each tier of suppliers\n",
        "  4. Increase safety stock levels for key materials\n",
        "  Let's go through each point and tailor it to the specific needs of the new product launch.\"\n",
        "  ```\n",
        "\n",
        "<hr>\n",
        "\n",
        "<br>\n",
        "\n",
        "### ➡️ References\n",
        "\n",
        "* https://www.promptingguide.ai/research/llm-agents\n",
        "* https://developer.nvidia.com/blog/introduction-to-llm-agents/\n",
        "* https://www.truefoundry.com/blog/llm-agents#:~:text=Challenges-,Introduction,assistant%2C%20to%20plan%20a%20vacation\n",
        "* https://research.google/blog/react-synergizing-reasoning-and-acting-in-language-models/\n",
        "* https://react-lm.github.io/\n",
        "* https://arxiv.org/abs/2210.03629\n",
        "\n",
        "<hr>"
      ],
      "metadata": {
        "id": "9LtkYLZ409Lw"
      }
    },
    {
      "cell_type": "markdown",
      "source": [
        "<img src=\"https://raw.githubusercontent.com/genieincodebottle/generative-ai/main/images/agent_usecase.png\">"
      ],
      "metadata": {
        "id": "C3txyE305tRW"
      }
    },
    {
      "cell_type": "markdown",
      "source": [
        "# 🚀 Let’s explore different ways to implement Agentic GenAI systems :)\n",
        "\n",
        "### ➡️ But first understand what is ReAct Agent Architecture in Agentic based Systems ...\n",
        "\n",
        "[ReAct Doc Link](https://react-lm.github.io/)\n",
        "\n",
        "\n",
        "One of the most popular agent architectures. The ReAct agent architecture repeatedly calls an LLM in a loop. At each step, the agent chooses which tools to use and their inputs. The tools execute, and their outputs are fed back to the LLM. The loop ends when the agent determines no further tools are needed.\n",
        "\n",
        "<br>\n",
        "\n",
        "We can say ReAct is a method that combines reasoning and action generation in LLMs for better performance. ReAct improves accuracy, handles exceptions, and gathers information from external sources, making it more effective and interpretable in tasks like question answering, fact-checking, and decision-making.\n",
        "\n",
        "<br>\n",
        "\n",
        "<img width=\"500\" src=\"https://raw.githubusercontent.com/genieincodebottle/generative-ai/main/images/ReAct.png\">\n",
        "\n",
        "Source: https://react-lm.github.io/\n",
        "\n",
        "<hr>\n",
        "\n",
        "### ➡️ What are the benefits of using the ReAct Method in Agentic GenAI Applications?\n",
        "\n",
        "ReAct enhances agent performance by:\n",
        "\n",
        "* Combining reasoning with action for better decision-making\n",
        "* Improving accuracy and handling exceptions\n",
        "* Enabling effective information gathering from external sources\n",
        "* Increasing interpretability of the agent's processes\n",
        "\n",
        "These features make ReAct ideal for complex, multi-step tasks requiring adaptability and transparency.\n",
        "<hr>\n",
        "\n",
        "### ➡️ LangChain Docs\n",
        "\n",
        "   * [All Supported Agent Types in Langchain](https://python.langchain.com/v0.1/docs/modules/agents/agent_types/)"
      ],
      "metadata": {
        "id": "nGGLNLHNcm9d"
      }
    },
    {
      "cell_type": "markdown",
      "source": [
        "<img src=\"https://raw.githubusercontent.com/genieincodebottle/generative-ai/main/images/separator.png\">"
      ],
      "metadata": {
        "id": "3l1svFRmXOw1"
      }
    },
    {
      "cell_type": "markdown",
      "source": [
        "# 🤖 LangChain Agent\n",
        "\n",
        " * [Agents Doc](https://python.langchain.com/v0.1/docs/modules/agents/)\n",
        "\n",
        "<br>\n",
        "\n",
        "## ➡️ Core Concepts\n",
        "\n",
        "1. **Agents**: Use language models to choose a sequence of actions dynamically.\n",
        "2. **Chains**: Have a hardcoded sequence of actions.\n",
        "\n",
        "<br>\n",
        "\n",
        "## ➡️ Key Components\n",
        "\n",
        "* ### Schema\n",
        "  - **AgentAction**: Represents the action an agent should take (tool and input).\n",
        "  - **AgentFinish**: Represents the final result from an agent.\n",
        "  - **Intermediate Steps**: Previous agent actions and outputs from the current run.\n",
        "\n",
        "* ### Agent\n",
        "  - Decides the next step to take.\n",
        "  - Powered by a language model, prompt, and output parser.\n",
        "  - Inputs: Key-value mapping (required: `intermediate_steps`).\n",
        "  - Outputs: Next action(s) or final response (`AgentAction`, `List[AgentAction]`, or `AgentFinish`).\n",
        "\n",
        "* ### AgentExecutor\n",
        "  - Runtime for an agent.\n",
        "  - Calls the agent, executes actions, and handles various edge cases.\n",
        "\n",
        "* ### Tools\n",
        "  - Functions that an agent can invoke.\n",
        "  - Components:\n",
        "    1. Input schema\n",
        "    2. Function to run\n",
        "\n",
        "* ### Toolkits\n",
        "  - Groups of related tools for common tasks (e.g., GitHub toolkit).\n",
        "\n",
        "<br>\n",
        "\n",
        "## ➡️ Considerations\n",
        "  1. Provide the agent with the right tools.\n",
        "  2. Describe tools effectively for proper agent usage.\n",
        "\n",
        "\n",
        "<img width=\"500\" src=\"https://raw.githubusercontent.com/genieincodebottle/generative-ai/main/images/agent_core.png\">"
      ],
      "metadata": {
        "id": "RlQwX_JtFp0-"
      }
    },
    {
      "cell_type": "markdown",
      "source": [
        "<img src=\"https://raw.githubusercontent.com/genieincodebottle/generative-ai/main/images/separator.png\">"
      ],
      "metadata": {
        "id": "O7_16gCtGpnK"
      }
    },
    {
      "cell_type": "markdown",
      "source": [
        "# 🌐 Usecase - 1: Internet Search & Report Generation Tool based Agents\n",
        "\n",
        "(Using Langchain's `create_react_agent` function)\n",
        "\n",
        "### ➡️ Intro\n",
        "Let's implement an agent system using Langchain and Google's Gemini Pro | Llama3.1 LLMs. The system can perform internet searches and generate reports based on user queries.\n",
        "\n",
        "<br>\n",
        "\n",
        "### ➡️ Code Implementation\n",
        "\n",
        "  * [Using Free Google's Gemini Pro](https://colab.research.google.com/drive/1xpQw6o6IzHMG83BnZx1qcnMEN4ZGlec6?usp=sharing)\n",
        "  * [Using Meta's Open Llama3.1](https://colab.research.google.com/drive/1j3BRdbDJqngCN5HbQWlNqQuVmqSRbKsF?usp=sharing)\n",
        "\n",
        "<br>\n",
        "\n",
        "<img width=\"500\" src=\"https://raw.githubusercontent.com/genieincodebottle/generative-ai/main/images/internet_search_tool.png\">\n",
        "\n",
        "\n",
        "\n",
        "\n"
      ],
      "metadata": {
        "id": "FIQtjH6GfzuQ"
      }
    },
    {
      "cell_type": "markdown",
      "source": [
        "<img src=\"https://raw.githubusercontent.com/genieincodebottle/generative-ai/main/images/separator.png\">"
      ],
      "metadata": {
        "id": "_9a0pOC3XXG7"
      }
    },
    {
      "cell_type": "markdown",
      "source": [
        "# 🔍 Usecase - 2: RAG Retriver Tool based Agent\n",
        "\n",
        "(Using Langchain's `create_retriever_tool` & `create_react_agent` functions)\n",
        "\n",
        "### ➡️ Intro\n",
        "\n",
        "Let's implements a Retrieval-Augmented Generation (RAG) agent using LangChain and Google's Generative AI | Llama3.1 LLMs. The agent can answer questions based on the content of a specific document (in this case, the State of the Union address).\n",
        "\n",
        "<br>\n",
        "\n",
        "### ➡️ Code Implementation\n",
        "\n",
        "  * [Using Free Google's Gemini Pro](https://colab.research.google.com/drive/1oaB4GqChh-VpL0ndjJDGl2xdZ2j-m3lN?usp=sharing)\n",
        "  * [Using Meta's Open Llama3.1](https://colab.research.google.com/drive/1vUdKLGJjLFkD_k8JuyrSADMmElJ55-Rl?usp=sharing)\n",
        "\n",
        "<br>\n",
        "\n",
        "<img width=\"500\" src=\"https://raw.githubusercontent.com/genieincodebottle/generative-ai/main/images/rag_agents.png\">\n",
        "\n",
        "\n",
        "\n"
      ],
      "metadata": {
        "id": "Lr-y-2TXfRyZ"
      }
    },
    {
      "cell_type": "markdown",
      "source": [
        "<img src=\"https://raw.githubusercontent.com/genieincodebottle/generative-ai/main/images/separator.png\">"
      ],
      "metadata": {
        "id": "PK19bdydXbQ2"
      }
    },
    {
      "cell_type": "markdown",
      "source": [
        "# 🔗 Usecase - 3: Wiki-YouTube Automation Agent\n",
        "\n",
        "(Using Langchain's `create_react_agent` function)\n",
        "\n",
        "### ➡️ Intro\n",
        "Let's implement an agentic GenAI system capable of answering complex questions by autonomously searching for information from Wikipedia and YouTube. It utilizes Langchain and Google's Generative AI (Gemini Pro)  for natural language processing and integrates Wikipedia and YouTube search capabilities.\n",
        "\n",
        "<br>\n",
        "\n",
        "### ➡️ Code Implementation\n",
        "\n",
        "  * [Using Free Google's Gemini Pro](https://colab.research.google.com/drive/1ozPizocnwQVVCjTuNOeoix4VLLf6-aH2?usp=sharing)\n",
        "  \n",
        "  \n",
        "<br>\n",
        "\n",
        "<img width=\"500\" src=\"https://raw.githubusercontent.com/genieincodebottle/generative-ai/main/images/wiki_yt_agent_automation.png\">\n"
      ],
      "metadata": {
        "id": "bGs7GdOpI1_A"
      }
    },
    {
      "cell_type": "markdown",
      "source": [
        "<img src=\"https://raw.githubusercontent.com/genieincodebottle/generative-ai/main/images/separator.png\">"
      ],
      "metadata": {
        "id": "P9Wbb_RtXcc7"
      }
    },
    {
      "cell_type": "markdown",
      "source": [
        "# 🔗 Usecase - 4: Wiki-YouTube-Gmail Automation Agent\n",
        "\n",
        "(Using Langchain's `create_react_agent` function)\n",
        "\n",
        "### ➡️ Intro\n",
        "Let's implement an agentic GenAI system capable of answering complex questions by autonomously searching for information from Wikipedia and YouTube and then creating draft Email. It utilizes Langchain and Google's Generative AI (Gemini Pro) for natural language processing and integrates Wikipedia and YouTube search capabilities.\n",
        "\n",
        "<br>\n",
        "\n",
        "### ➡️ Code Implementation\n",
        "\n",
        "  * **Work In Progress**\n",
        "  \n",
        "  \n",
        "<br>\n",
        "\n"
      ],
      "metadata": {
        "id": "zVweUpwxuJtV"
      }
    },
    {
      "cell_type": "markdown",
      "source": [
        "<img src=\"https://raw.githubusercontent.com/genieincodebottle/generative-ai/main/images/separator.png\">"
      ],
      "metadata": {
        "id": "LXPXjEsRuKoo"
      }
    },
    {
      "cell_type": "markdown",
      "source": [
        "# 🔗 Usecase - 5: Agentic GenAI System Using LangChain's LangGraph Agent Framework\n",
        "\n",
        "### ➡️ LangGraph\n",
        "LangGraph is a library for Stateful LLM Applications.\n",
        "\n",
        "You can think it as a tool for creating stateful, multi-actor applications using Large Language Models (LLMs). It's designed for building agent and multi-agent workflows with these key features:\n",
        "\n",
        "* `Cycles`: Supports loops and branching, essential for agent architectures.\n",
        "* `Controllability`: Offers fine-grained control over application flow and state.\n",
        "* `Persistence`: Includes built-in state saving for advanced features like human-in-the-loop interactions.\n",
        "\n",
        "<br>\n",
        "\n",
        "### ➡️ Main benefits\n",
        "\n",
        "* Implements cycles and conditionals\n",
        "* Provides automatic state persistence\n",
        "* Supports human-in-the-loop workflows\n",
        "* Offers streaming capabilities\n",
        "* Integrates with LangChain and LangSmith (optional)\n",
        "\n",
        "<br>\n",
        "\n",
        "### ➡️ Example\n",
        "\n",
        "**Building a Simple Weather Agent with LangGraph**\n",
        "\n",
        "This example demonstrates how to create a basic weather information agent using LangGraph. We'll walk through the process of setting up a stateful conversation flow that can:\n",
        "\n",
        "* Use a Metaweather api call as weather search tool to fetch weather information\n",
        "* Maintain context across multiple user queries\n",
        "* Showcase key LangGraph features like state management and tool integration\n",
        "\n",
        "The agent will be able to provide weather information for different cities, demonstrating how LangGraph manages conversation state, handles tool calls, and enables persistent memory across interactions. This practical example illustrates the core concepts of LangGraph in an easy-to-understand weather lookup scenario.\n",
        "\n",
        "<br>\n",
        "\n",
        "### ➡️ Code Implementation\n",
        "\n",
        "  * [Using Free Google's Gemini Pro](https://colab.research.google.com/drive/1eLYsHB_aY42Rjy1o9TBZtDDk9jVcgnA2?usp=sharing)\n",
        "\n",
        "<br>\n",
        "\n",
        "<img width=\"500\" src=\"https://raw.githubusercontent.com/genieincodebottle/generative-ai/main/images/langgraph_new.png\">\n",
        "\n",
        "### ➡️ Reference\n",
        "\n",
        "* https://langchain-ai.github.io/langgraph/"
      ],
      "metadata": {
        "id": "-dvREy7DsAK6"
      }
    },
    {
      "cell_type": "markdown",
      "source": [
        "<img src=\"https://raw.githubusercontent.com/genieincodebottle/generative-ai/main/images/separator.png\">"
      ],
      "metadata": {
        "id": "DXjiZSRWXevP"
      }
    },
    {
      "cell_type": "markdown",
      "source": [
        "# ✨ LangGraph based Agentic System Usecases (If you want to experiment more)\n",
        "\n",
        "A bit meesy docs but few interesting use cases.\n",
        "\n",
        "* https://langchain-ai.github.io/langgraph/tutorials/\n"
      ],
      "metadata": {
        "id": "iR5qYE5LJf-k"
      }
    },
    {
      "cell_type": "markdown",
      "source": [
        "<img src=\"https://raw.githubusercontent.com/genieincodebottle/generative-ai/main/images/separator.png\">"
      ],
      "metadata": {
        "id": "BLokRoxrXf_N"
      }
    },
    {
      "cell_type": "markdown",
      "source": [
        "# 🧑‍🤝‍🧑 CrewAI, MetaGPT etc Multi-Agents Exploration\n",
        "\n",
        "Work In Progress"
      ],
      "metadata": {
        "id": "NviUBuUTr0D-"
      }
    }
  ]
}